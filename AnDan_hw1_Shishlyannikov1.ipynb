{
 "cells": [
  {
   "cell_type": "markdown",
   "metadata": {},
   "source": [
    "### HSE 2022: Mathematical Methods for Data Analysis\n",
    "\n",
    "## Homework 1"
   ]
  },
  {
   "cell_type": "markdown",
   "metadata": {},
   "source": [
    "### Attention!\n",
    "* For tasks where <ins>text answer</ins> is required **Russian language** is **allowed**.\n",
    "* If a task asks you to describe something (make coclusions) then **text answer** is **mandatory** and **is** part of the task\n",
    "* **Do not** upload the dataset (titanic.csv) to the grading system (we already have it)\n",
    "* We **only** accept **ipynb** notebooks. If you use Google Colab then you'll have to download the notebook before passing the homework\n",
    "* **Do not** use python loops instead of NumPy vector operations over NumPy vectors - it significantly decreases performance (see why https://blog.paperspace.com/numpy-optimization-vectorization-and-broadcasting/), will be punished with -0.25 for **every** task. \n",
    "Loops are only allowed in part 1 (Tasks 1 - 4). \n",
    "* Some tasks contain tests. They only test you solution on a simple example, thus, passing the test does **not** guarantee you the full grade for the task. "
   ]
  },
  {
   "cell_type": "code",
   "execution_count": 3,
   "metadata": {},
   "outputs": [],
   "source": [
    "%matplotlib inline\n",
    "import numpy as np\n",
    "import pandas as pd\n",
    "import matplotlib.pyplot as plt\n",
    "import seaborn as sns"
   ]
  },
  {
   "cell_type": "markdown",
   "metadata": {},
   "source": [
    "# 1. Python (2 points) "
   ]
  },
  {
   "cell_type": "markdown",
   "metadata": {},
   "source": [
    "**Task 1** (0.5 points)<br/> \n",
    "Enter nonzero numbers `a`,  `r` and `N`. Find the first `N` members of geometric progression with the first member `a` and factor `r`, without using formula for the product."
   ]
  },
  {
   "cell_type": "code",
   "execution_count": 4,
   "metadata": {},
   "outputs": [
    {
     "name": "stdout",
     "output_type": "stream",
     "text": [
      "[2, 6, 18]\n"
     ]
    }
   ],
   "source": [
    "def find_product(a,r,N):\n",
    "    arr_product = [a]\n",
    "    for i in range (0, N-1):\n",
    "        arr_product.append(arr_product[-1]*r)\n",
    "    return arr_product\n",
    "\n",
    "a = 2\n",
    "r = 3\n",
    "N = 3\n",
    "print(find_product(a,r,N))"
   ]
  },
  {
   "cell_type": "markdown",
   "metadata": {},
   "source": [
    "**Task 2** (0.5 points) <br/> \n",
    "Enter an integer number `N`. Check if it is a palindrome number. It means that it can be read equally from left to right and from right to back. "
   ]
  },
  {
   "cell_type": "code",
   "execution_count": 5,
   "metadata": {},
   "outputs": [
    {
     "name": "stdout",
     "output_type": "stream",
     "text": [
      "3 True\n",
      "81 False\n",
      "111 True\n",
      "113 False\n",
      "810 False\n",
      "2022 False\n",
      "4774 True\n",
      "51315 True\n",
      "611816 False\n"
     ]
    }
   ],
   "source": [
    "def check_palindrome(N):\n",
    "    copy_n = N\n",
    "    res = 0\n",
    "    while(N!=0):\n",
    "        digit = N%10\n",
    "        res = res*10 + digit\n",
    "        N = int(N/10)\n",
    "    check_palindrome = False\n",
    "    if(res == copy_n):\n",
    "        check_palindrome = True\n",
    "    return check_palindrome\n",
    "\n",
    "for N in [3, 81, 111, 113, 810, 2022, 4774, 51315, 611816]:\n",
    "    print(N, check_palindrome(N))"
   ]
  },
  {
   "cell_type": "markdown",
   "metadata": {},
   "source": [
    "**Task 3** (0.5 points) <br/> \n",
    "Find the first `N` palindrome numbers starting from 1000 (you may use the function from the precious task)."
   ]
  },
  {
   "cell_type": "code",
   "execution_count": 6,
   "metadata": {},
   "outputs": [
    {
     "name": "stdout",
     "output_type": "stream",
     "text": [
      "[1001, 1111, 1221, 1331, 1441]\n",
      "[1001, 1111, 1221, 1331, 1441, 1551, 1661, 1771, 1881, 1991]\n",
      "[1001, 1111, 1221, 1331, 1441, 1551, 1661, 1771, 1881, 1991, 2002, 2112, 2222, 2332, 2442, 2552, 2662, 2772, 2882, 2992]\n"
     ]
    }
   ],
   "source": [
    "def find_palindromes(N):\n",
    "    start = 1000\n",
    "    n = 0\n",
    "    palindromes = []\n",
    "    while (n != N):\n",
    "        start+=1\n",
    "        if(str(start) == str(start)[::-1]):\n",
    "            n+=1\n",
    "            palindromes.append(start)\n",
    "    return palindromes\n",
    "\n",
    "print(find_palindromes(5))\n",
    "print(find_palindromes(10))\n",
    "print(find_palindromes(20))"
   ]
  },
  {
   "cell_type": "markdown",
   "metadata": {},
   "source": [
    "**Task 4** (0.5 points) <br/> \n",
    "There are numbers: `a`, `b`, `c`. Without using functions `min`, `max` and other functions, find the minimum number."
   ]
  },
  {
   "cell_type": "code",
   "execution_count": 7,
   "metadata": {},
   "outputs": [
    {
     "name": "stdout",
     "output_type": "stream",
     "text": [
      "-49 86 89 \tMinimum: -49\n",
      "45 -54 97 \tMinimum: -54\n",
      "68 24 -46 \tMinimum: -46\n",
      "14 -26 -64 \tMinimum: -64\n",
      "41 18 0 \tMinimum: 0\n",
      "64 -9 -1 \tMinimum: -9\n",
      "-20 -54 -64 \tMinimum: -64\n",
      "-42 39 -31 \tMinimum: -42\n",
      "-63 -22 89 \tMinimum: -63\n",
      "27 -81 -60 \tMinimum: -81\n"
     ]
    }
   ],
   "source": [
    "from random import randint\n",
    "def find_min(a, b, c):\n",
    "    min_ = -101\n",
    "    if (a <= b and a <= c):\n",
    "        min_ = a\n",
    "    if (b <= c and b <= a):\n",
    "        min_ = b\n",
    "    if (c <= a and c <= b):\n",
    "        min_ = c\n",
    "    return min_\n",
    "\n",
    "for i in range(10):\n",
    "    \n",
    "    a = randint(-100, 100)\n",
    "    b = randint(-100, 100)\n",
    "    c = randint(-100, 100)\n",
    "    \n",
    "    print(a, b, c, '\\tMinimum:', find_min(a, b, c))"
   ]
  },
  {
   "cell_type": "markdown",
   "metadata": {},
   "source": [
    "# 2. Numpy (4 points)"
   ]
  },
  {
   "cell_type": "markdown",
   "metadata": {},
   "source": [
    "**Task 1** (0.5 points) <br/>\n",
    "Create a random array (`np.random.rand()`) with length of 17 and with sum of its elements equals to 6."
   ]
  },
  {
   "cell_type": "code",
   "execution_count": 13,
   "metadata": {},
   "outputs": [
    {
     "name": "stdout",
     "output_type": "stream",
     "text": [
      "Length: 17\n",
      "Sum of elements: 6.000000000000001\n"
     ]
    }
   ],
   "source": [
    "my_array = np.random.rand(17)\n",
    "summ = np.sum(my_array)\n",
    "my_array = my_array/summ*6\n",
    "print(f'Length: {len(my_array)}')\n",
    "print(f'Sum of elements: {np.sum(my_array)}')\n",
    "#my_array - #check"
   ]
  },
  {
   "cell_type": "markdown",
   "metadata": {},
   "source": [
    "**Task 2** (0.5 points) <br/>\n",
    "Create two random arrays $a$ and $b$ with the same length. \n",
    "\n",
    "Calculate the following distances between the arrays **without using special funcrion. You may only use basic numpy operations (`np.linalg.*` and other high-level ones are prohibited).**:\n",
    "\n",
    "* Manhattan Distance\n",
    "$$ d(a, b) = \\sum_i |a_i - b_i| $$\n",
    "* Euclidean Distance\n",
    "$$ d(a, b) = \\sqrt{\\sum_i (a_i - b_i)^2} $$\n",
    "* Chebyshev Distance\n",
    "$$ d(a, b) = \\underset{i}{max} |a_i - b_i| $$\n",
    "* Cosine Distance\n",
    "$$ d(a, b) = 1 - \\frac{a^\\top b}{||a||_2\\cdot||b||_2} $$\n"
   ]
  },
  {
   "cell_type": "code",
   "execution_count": 7,
   "metadata": {},
   "outputs": [],
   "source": [
    "def calculate_manhattan(a, b):    \n",
    "    dif = abs(a-b)\n",
    "    distance = dif.sum()\n",
    "    return distance\n",
    "\n",
    "def calculate_euclidean(a, b):    \n",
    "    dif = a-b\n",
    "    dif = np.power(dif,2)\n",
    "    distance_sq = dif.sum()\n",
    "    distance = np.sqrt(distance_sq)\n",
    "    return distance\n",
    "\n",
    "def calculate_chebyshev(a, b):    \n",
    "    dif = abs(a-b)\n",
    "    distance = dif.max()\n",
    "    return distance\n",
    "\n",
    "def calculate_cosine(a, b):\n",
    "    aT = a.transpose();\n",
    "    aTb = aT.dot(b)\n",
    "    aPow2 = np.power(a,2)\n",
    "    bPow2 = np.power(b,2)\n",
    "    distanceAB = np.sqrt(aPow2.sum())*np.sqrt(bPow2.sum())\n",
    "    distance = aTb/distanceAB\n",
    "    #1-spatial.distance.cosine(a,b) - checked \n",
    "    return distance"
   ]
  },
  {
   "cell_type": "code",
   "execution_count": 8,
   "metadata": {},
   "outputs": [
    {
     "name": "stdout",
     "output_type": "stream",
     "text": [
      "[2 0 2 2]\n",
      "[0 0 2 1]\n",
      "Manhattan distance: 3\n",
      "Euclidean distance: 2.23606797749979\n",
      "Chebyshev distance: 2\n",
      "Cosine distance: 0.7745966692414834\n"
     ]
    }
   ],
   "source": [
    "np.random.seed(42)\n",
    "a = np.random.randint(3,size=4)\n",
    "b = np.random.randint(3,size=4)\n",
    "print(a)\n",
    "print(b)\n",
    "print(f'Manhattan distance: {calculate_manhattan(a, b)}')\n",
    "print(f'Euclidean distance: {calculate_euclidean(a, b)}')\n",
    "print(f'Chebyshev distance: {calculate_chebyshev(a, b)}')\n",
    "print(f'Cosine distance: {calculate_cosine(a, b)}')"
   ]
  },
  {
   "cell_type": "markdown",
   "metadata": {},
   "source": [
    "**Task 3** (0.5 points) <br/>\n",
    "Create a random array (`np.random.randint()`) with length of 76. Transform the array so that \n",
    "* Maximum element(s) value is -1\n",
    "* Minimum element(s) value is -4\n",
    "* Other values are in interval (-4; -1) with keeping the order"
   ]
  },
  {
   "cell_type": "code",
   "execution_count": 9,
   "metadata": {},
   "outputs": [],
   "source": [
    "def transform(array):\n",
    "    #  with keeping the order - sort?\n",
    "    array.sort()\n",
    "    return array"
   ]
  },
  {
   "cell_type": "code",
   "execution_count": 10,
   "metadata": {},
   "outputs": [
    {
     "name": "stdout",
     "output_type": "stream",
     "text": [
      "Min: -4\n",
      "Max: -1\n",
      "Array:\n",
      "[-2 -2 -2 -2 -1 -4 -1 -1 -1 -2 -3 -4 -3 -1 -1 -3 -3 -3 -1 -1 -4 -4 -1 -3\n",
      " -3 -4 -1 -4 -4 -2 -2 -2 -3 -1 -1 -1 -1 -2 -3 -3 -2 -3 -2 -1 -2 -1 -1 -4\n",
      " -2 -4 -2 -2 -4 -4 -2 -3 -1 -4 -1 -3 -3 -3 -4 -3 -4 -3 -1 -1 -2 -1 -2 -1\n",
      " -4 -1 -2 -2]\n"
     ]
    }
   ],
   "source": [
    "my_array = np.random.randint(4,size=76) -4\n",
    "#transform(my_array) - не уверен что \"сохранение порядка\" - это сортировка\n",
    "print(f'Min: {np.min(my_array)}')\n",
    "print(f'Max: {np.max(my_array)}')\n",
    "print('Array:')\n",
    "print(my_array)"
   ]
  },
  {
   "cell_type": "markdown",
   "metadata": {},
   "source": [
    "**Task 4** (0.5 points) <br/>\n",
    "Create an array with shape of $8 \\times 5$ with integers from [-7, 43]. Print a column that contains the maximum element of the array."
   ]
  },
  {
   "cell_type": "code",
   "execution_count": 11,
   "metadata": {},
   "outputs": [
    {
     "name": "stdout",
     "output_type": "stream",
     "text": [
      "Shape:  (8, 5)\n",
      "Array:\n",
      "[[ 6  9 28 42 32]\n",
      " [-4 -6 -2 34 -4]\n",
      " [21 10 18 36 26]\n",
      " [ 2 28  6 23 40]\n",
      " [ 7  0  6 15 32]\n",
      " [13  8 37 10 39]\n",
      " [16 18 17 37 33]\n",
      " [21  7 37 -7 17]]\n",
      "Selected column: \n",
      " [42 34 36 23 15 10 37 -7]\n"
     ]
    }
   ],
   "source": [
    "my_array = np.random.randint(50,size=(8,5)) - 7\n",
    "max_col = np.where(my_array == np.max(my_array))[1]\n",
    "max_col = max_col[0] # Чтобы выводился только один столбец.\n",
    "selected_column = my_array[:, max_col]\n",
    "print('Shape: ', my_array.shape)\n",
    "print('Array:')\n",
    "print(my_array)\n",
    "print(f'Selected column: \\n {selected_column}')"
   ]
  },
  {
   "cell_type": "markdown",
   "metadata": {},
   "source": [
    "**Task 5** (0.5 points) <br/>\n",
    "\n",
    "Replace all missing values in the following array with median."
   ]
  },
  {
   "cell_type": "code",
   "execution_count": 33,
   "metadata": {},
   "outputs": [
    {
     "name": "stdout",
     "output_type": "stream",
     "text": [
      "[0.11308232        nan 0.36337753        nan 0.65118865 0.84549363\n",
      "        nan 0.98592777        nan 0.96618361]\n",
      "Array:\n",
      "[0.11308232 0.65420892 0.36337753 0.65420892 0.65118865 0.84549363\n",
      " 0.65420892 0.98592777 0.65420892 0.96618361]\n"
     ]
    }
   ],
   "source": [
    "arr = np.random.rand(10)\n",
    "idx = np.random.randint(0, 10, 4)\n",
    "arr[idx] = np.nan\n",
    "#print(arr)\n",
    "arr = np.nan_to_num(arr, nan=np.nanmean(arr))\n",
    "print('Array:')\n",
    "print(arr)"
   ]
  },
  {
   "cell_type": "markdown",
   "metadata": {},
   "source": [
    "**Task 6** (0.5 points) <br/>\n",
    "Create a function which takes an image ```X``` (3D array of the shape (n, m, 3)) as an input and returns the mean for all 3 channels (a vector of shape 3)."
   ]
  },
  {
   "cell_type": "code",
   "execution_count": 36,
   "metadata": {},
   "outputs": [],
   "source": [
    "def mean_channel(X):\n",
    "    mean_vector = np.mean(X, axis = (0,1))\n",
    "    return mean_vector"
   ]
  },
  {
   "cell_type": "code",
   "execution_count": 37,
   "metadata": {},
   "outputs": [
    {
     "name": "stdout",
     "output_type": "stream",
     "text": [
      "[-2.09610984 -1.75286041 -1.90846682]\n"
     ]
    }
   ],
   "source": [
    "n = 19\n",
    "m = 23\n",
    "X =  np.random.randint(-11, 8, size=(n, m, 3))\n",
    "print(mean_channel(X))"
   ]
  },
  {
   "cell_type": "markdown",
   "metadata": {},
   "source": [
    "### **Task 7** (1 points) <br/>\n",
    "Create a function which takes a 3D matrix ```X``` as an input and returns all its unique vertical (first axis) layers.\n",
    "\n",
    "Sample input:\n",
    "\n",
    "     ([[[1, 2, 3],\n",
    "        [1, 2, 3],\n",
    "        [1, 2, 3]],\n",
    "\n",
    "       [[4, 5, 6],\n",
    "        [4, 5, 7]\n",
    "        [4, 5, 6]],\n",
    "\n",
    "       [[7, 8, 9],\n",
    "        [7, 8, 9]\n",
    "        [7, 8, 9]]])\n",
    "        \n",
    "Sample output:\n",
    "\n",
    "     ([[[1, 2, 3],\n",
    "        [1, 2, 3]],\n",
    "\n",
    "       [[4, 5, 6],\n",
    "        [4, 5, 7]],\n",
    "\n",
    "       [[7, 8, 9],\n",
    "        [7, 8, 9]]])"
   ]
  },
  {
   "cell_type": "code",
   "execution_count": 38,
   "metadata": {},
   "outputs": [],
   "source": [
    "def get_unique_rows(x):\n",
    "    X_unique =np.unique(x, axis= 1)\n",
    "    return X_unique"
   ]
  },
  {
   "cell_type": "code",
   "execution_count": 39,
   "metadata": {},
   "outputs": [
    {
     "name": "stdout",
     "output_type": "stream",
     "text": [
      "[[[4 5 4]\n",
      "  [5 5 5]\n",
      "  [4 4 5]]\n",
      "\n",
      " [[5 4 4]\n",
      "  [4 5 5]\n",
      "  [5 5 4]]\n",
      "\n",
      " [[5 4 5]\n",
      "  [4 4 4]\n",
      "  [5 5 5]]\n",
      "\n",
      " [[5 4 5]\n",
      "  [4 5 4]\n",
      "  [5 5 4]]\n",
      "\n",
      " [[4 4 4]\n",
      "  [4 5 5]\n",
      "  [4 4 5]]\n",
      "\n",
      " [[4 5 4]\n",
      "  [4 5 4]\n",
      "  [4 5 4]]\n",
      "\n",
      " [[5 4 5]\n",
      "  [4 5 5]\n",
      "  [4 5 5]]\n",
      "\n",
      " [[4 4 5]\n",
      "  [5 4 4]\n",
      "  [5 4 4]]\n",
      "\n",
      " [[5 5 5]\n",
      "  [4 5 4]\n",
      "  [5 5 5]]\n",
      "\n",
      " [[4 4 5]\n",
      "  [4 5 5]\n",
      "  [4 4 5]]\n",
      "\n",
      " [[4 4 4]\n",
      "  [5 5 4]\n",
      "  [5 5 5]]\n",
      "\n",
      " [[4 5 5]\n",
      "  [5 5 4]\n",
      "  [5 5 5]]\n",
      "\n",
      " [[5 5 5]\n",
      "  [5 5 4]\n",
      "  [4 4 5]]\n",
      "\n",
      " [[4 4 5]\n",
      "  [4 4 5]\n",
      "  [5 4 5]]\n",
      "\n",
      " [[4 4 4]\n",
      "  [5 5 4]\n",
      "  [5 5 5]]\n",
      "\n",
      " [[4 4 4]\n",
      "  [5 4 4]\n",
      "  [5 4 4]]\n",
      "\n",
      " [[5 5 4]\n",
      "  [4 5 5]\n",
      "  [5 5 4]]\n",
      "\n",
      " [[4 4 4]\n",
      "  [5 4 5]\n",
      "  [4 4 4]]\n",
      "\n",
      " [[5 4 4]\n",
      "  [4 5 5]\n",
      "  [4 4 4]]]\n",
      "Unique rows:\n"
     ]
    },
    {
     "data": {
      "text/plain": [
       "array([[[4, 4, 5],\n",
       "        [4, 5, 4],\n",
       "        [5, 5, 5]],\n",
       "\n",
       "       [[5, 5, 4],\n",
       "        [5, 4, 4],\n",
       "        [4, 5, 5]],\n",
       "\n",
       "       [[5, 5, 5],\n",
       "        [5, 4, 5],\n",
       "        [4, 4, 4]],\n",
       "\n",
       "       [[5, 5, 4],\n",
       "        [5, 4, 5],\n",
       "        [4, 5, 4]],\n",
       "\n",
       "       [[4, 4, 5],\n",
       "        [4, 4, 4],\n",
       "        [4, 5, 5]],\n",
       "\n",
       "       [[4, 5, 4],\n",
       "        [4, 5, 4],\n",
       "        [4, 5, 4]],\n",
       "\n",
       "       [[4, 5, 5],\n",
       "        [5, 4, 5],\n",
       "        [4, 5, 5]],\n",
       "\n",
       "       [[5, 4, 4],\n",
       "        [4, 4, 5],\n",
       "        [5, 4, 4]],\n",
       "\n",
       "       [[5, 5, 5],\n",
       "        [5, 5, 5],\n",
       "        [4, 5, 4]],\n",
       "\n",
       "       [[4, 4, 5],\n",
       "        [4, 4, 5],\n",
       "        [4, 5, 5]],\n",
       "\n",
       "       [[5, 5, 5],\n",
       "        [4, 4, 4],\n",
       "        [5, 5, 4]],\n",
       "\n",
       "       [[5, 5, 5],\n",
       "        [4, 5, 5],\n",
       "        [5, 5, 4]],\n",
       "\n",
       "       [[4, 4, 5],\n",
       "        [5, 5, 5],\n",
       "        [5, 5, 4]],\n",
       "\n",
       "       [[5, 4, 5],\n",
       "        [4, 4, 5],\n",
       "        [4, 4, 5]],\n",
       "\n",
       "       [[5, 5, 5],\n",
       "        [4, 4, 4],\n",
       "        [5, 5, 4]],\n",
       "\n",
       "       [[5, 4, 4],\n",
       "        [4, 4, 4],\n",
       "        [5, 4, 4]],\n",
       "\n",
       "       [[5, 5, 4],\n",
       "        [5, 5, 4],\n",
       "        [4, 5, 5]],\n",
       "\n",
       "       [[4, 4, 4],\n",
       "        [4, 4, 4],\n",
       "        [5, 4, 5]],\n",
       "\n",
       "       [[4, 4, 4],\n",
       "        [5, 4, 4],\n",
       "        [4, 5, 5]]])"
      ]
     },
     "execution_count": 39,
     "metadata": {},
     "output_type": "execute_result"
    }
   ],
   "source": [
    "X =  np.random.randint(4, 6, size=(n, 3, 3))\n",
    "#print('Matrix:')\n",
    "print(X)\n",
    "print('Unique rows:')\n",
    "get_unique_rows(X)"
   ]
  },
  {
   "cell_type": "markdown",
   "metadata": {},
   "source": [
    "# 3. Pandas & Visualization (4 points)\n"
   ]
  },
  {
   "cell_type": "markdown",
   "metadata": {},
   "source": [
    "You are going to work with *Titanic* dataset which contains information about passengers of Titanic:\n",
    "- **Survived** - 1 - survived, 0 - died (0); **Target variable**\n",
    "- **pclass** - passengers's class;\n",
    "- **sex** - passengers's sex\n",
    "- **Age** - passengers's age in years\n",
    "- **sibsp**    - is the passenger someones siblings   \n",
    "- **parch**    - is the passenger someones child or parent\n",
    "- **ticket** - ticket number    \n",
    "- **fare** - ticket price    \n",
    "- **cabin** - cabin number\n",
    "- **embarked** - port of Embarkation; C = Cherbourg, Q = Queenstown, S = Southampton\n",
    "\n",
    "**Note** for all visualizations use matplotlib or seaborn but NOT plotly! Plotly's graphics sometimes vanish after saving. In this case the task wont't be graded.\n",
    "\n",
    "**Note** support all your answers with necessary code, computations, vizualization, and explanation. Answers without code and explanation won't be graded.\n",
    "\n",
    "**Task 0** (0 points) \\\n",
    "Load the dataset and print first 5 rows"
   ]
  },
  {
   "cell_type": "code",
   "execution_count": 17,
   "metadata": {
    "scrolled": true
   },
   "outputs": [
    {
     "data": {
      "text/html": [
       "<div>\n",
       "<style scoped>\n",
       "    .dataframe tbody tr th:only-of-type {\n",
       "        vertical-align: middle;\n",
       "    }\n",
       "\n",
       "    .dataframe tbody tr th {\n",
       "        vertical-align: top;\n",
       "    }\n",
       "\n",
       "    .dataframe thead th {\n",
       "        text-align: right;\n",
       "    }\n",
       "</style>\n",
       "<table border=\"1\" class=\"dataframe\">\n",
       "  <thead>\n",
       "    <tr style=\"text-align: right;\">\n",
       "      <th></th>\n",
       "      <th>PassengerId</th>\n",
       "      <th>Survived</th>\n",
       "      <th>Pclass</th>\n",
       "      <th>Name</th>\n",
       "      <th>Sex</th>\n",
       "      <th>Age</th>\n",
       "      <th>SibSp</th>\n",
       "      <th>Parch</th>\n",
       "      <th>Ticket</th>\n",
       "      <th>Fare</th>\n",
       "      <th>Cabin</th>\n",
       "      <th>Embarked</th>\n",
       "    </tr>\n",
       "  </thead>\n",
       "  <tbody>\n",
       "    <tr>\n",
       "      <th>0</th>\n",
       "      <td>1</td>\n",
       "      <td>0</td>\n",
       "      <td>3</td>\n",
       "      <td>Braund, Mr. Owen Harris</td>\n",
       "      <td>male</td>\n",
       "      <td>22.0</td>\n",
       "      <td>1</td>\n",
       "      <td>0</td>\n",
       "      <td>A/5 21171</td>\n",
       "      <td>7.2500</td>\n",
       "      <td>NaN</td>\n",
       "      <td>S</td>\n",
       "    </tr>\n",
       "    <tr>\n",
       "      <th>1</th>\n",
       "      <td>2</td>\n",
       "      <td>1</td>\n",
       "      <td>1</td>\n",
       "      <td>Cumings, Mrs. John Bradley (Florence Briggs Th...</td>\n",
       "      <td>female</td>\n",
       "      <td>38.0</td>\n",
       "      <td>1</td>\n",
       "      <td>0</td>\n",
       "      <td>PC 17599</td>\n",
       "      <td>71.2833</td>\n",
       "      <td>C85</td>\n",
       "      <td>C</td>\n",
       "    </tr>\n",
       "    <tr>\n",
       "      <th>2</th>\n",
       "      <td>3</td>\n",
       "      <td>1</td>\n",
       "      <td>3</td>\n",
       "      <td>Heikkinen, Miss. Laina</td>\n",
       "      <td>female</td>\n",
       "      <td>26.0</td>\n",
       "      <td>0</td>\n",
       "      <td>0</td>\n",
       "      <td>STON/O2. 3101282</td>\n",
       "      <td>7.9250</td>\n",
       "      <td>NaN</td>\n",
       "      <td>S</td>\n",
       "    </tr>\n",
       "    <tr>\n",
       "      <th>3</th>\n",
       "      <td>4</td>\n",
       "      <td>1</td>\n",
       "      <td>1</td>\n",
       "      <td>Futrelle, Mrs. Jacques Heath (Lily May Peel)</td>\n",
       "      <td>female</td>\n",
       "      <td>35.0</td>\n",
       "      <td>1</td>\n",
       "      <td>0</td>\n",
       "      <td>113803</td>\n",
       "      <td>53.1000</td>\n",
       "      <td>C123</td>\n",
       "      <td>S</td>\n",
       "    </tr>\n",
       "    <tr>\n",
       "      <th>4</th>\n",
       "      <td>5</td>\n",
       "      <td>0</td>\n",
       "      <td>3</td>\n",
       "      <td>Allen, Mr. William Henry</td>\n",
       "      <td>male</td>\n",
       "      <td>35.0</td>\n",
       "      <td>0</td>\n",
       "      <td>0</td>\n",
       "      <td>373450</td>\n",
       "      <td>8.0500</td>\n",
       "      <td>NaN</td>\n",
       "      <td>S</td>\n",
       "    </tr>\n",
       "  </tbody>\n",
       "</table>\n",
       "</div>"
      ],
      "text/plain": [
       "   PassengerId  Survived  Pclass  \\\n",
       "0            1         0       3   \n",
       "1            2         1       1   \n",
       "2            3         1       3   \n",
       "3            4         1       1   \n",
       "4            5         0       3   \n",
       "\n",
       "                                                Name     Sex   Age  SibSp  \\\n",
       "0                            Braund, Mr. Owen Harris    male  22.0      1   \n",
       "1  Cumings, Mrs. John Bradley (Florence Briggs Th...  female  38.0      1   \n",
       "2                             Heikkinen, Miss. Laina  female  26.0      0   \n",
       "3       Futrelle, Mrs. Jacques Heath (Lily May Peel)  female  35.0      1   \n",
       "4                           Allen, Mr. William Henry    male  35.0      0   \n",
       "\n",
       "   Parch            Ticket     Fare Cabin Embarked  \n",
       "0      0         A/5 21171   7.2500   NaN        S  \n",
       "1      0          PC 17599  71.2833   C85        C  \n",
       "2      0  STON/O2. 3101282   7.9250   NaN        S  \n",
       "3      0            113803  53.1000  C123        S  \n",
       "4      0            373450   8.0500   NaN        S  "
      ]
     },
     "execution_count": 17,
     "metadata": {},
     "output_type": "execute_result"
    }
   ],
   "source": [
    "dataset =  pd.read_csv(\"titanic.csv\")\n",
    "dataset.head(5)"
   ]
  },
  {
   "cell_type": "markdown",
   "metadata": {},
   "source": [
    "**Task 1** (1 points) <br/>\n",
    "Answer the following questions:\n",
    "    \n",
    "    * Are there any missing values? In what columns?\n",
    "    * What is the percentage of survived passengers? Are the classes balanced?\n",
    "    * Were there more males or females?\n",
    "    * What what the least popular port of embarkation?\n",
    "    * How many classes (pclass) were there on Tinanic?\n",
    "    * What is the overall average ticket fare? And for every class?\n",
    "Please, write not only the answers but the code, proving it."
   ]
  },
  {
   "cell_type": "code",
   "execution_count": 18,
   "metadata": {},
   "outputs": [
    {
     "name": "stdout",
     "output_type": "stream",
     "text": [
      "(891, 12)\n"
     ]
    },
    {
     "data": {
      "text/plain": [
       "PassengerId    891\n",
       "Survived       891\n",
       "Pclass         891\n",
       "Name           891\n",
       "Sex            891\n",
       "Age            714\n",
       "SibSp          891\n",
       "Parch          891\n",
       "Ticket         891\n",
       "Fare           891\n",
       "Cabin          204\n",
       "Embarked       889\n",
       "dtype: int64"
      ]
     },
     "execution_count": 18,
     "metadata": {},
     "output_type": "execute_result"
    }
   ],
   "source": [
    "#Разделю ответы на задания. 1- Есть ли пропущенные значения и в каких столбцах если да\n",
    "print(dataset.shape)\n",
    "dataset.count()\n",
    "# Исходя из логики, если строк 891 а значений меньше- есть пропущенные. Колонки:(Age(177), Cabin(687), Embarked(2))"
   ]
  },
  {
   "cell_type": "code",
   "execution_count": 19,
   "metadata": {},
   "outputs": [
    {
     "name": "stdout",
     "output_type": "stream",
     "text": [
      "38.38383838383838\n"
     ]
    },
    {
     "data": {
      "text/plain": [
       "<matplotlib.axes._subplots.AxesSubplot at 0x23c7f3fbb80>"
      ]
     },
     "execution_count": 19,
     "metadata": {},
     "output_type": "execute_result"
    },
    {
     "data": {
      "image/png": "[encoded data removed]",
      "text/plain": [
       "<Figure size 720x432 with 1 Axes>"
      ]
     },
     "metadata": {
      "needs_background": "light"
     },
     "output_type": "display_data"
    }
   ],
   "source": [
    "#2- сколько процентов выжило и соблюден ли баланс выживших и их классом\n",
    "print(dataset['Survived'].mean()*100)\n",
    "# - смотрим на mean и видим что ~38% выжило\n",
    "plt.figure(figsize=(10,6))\n",
    "plt.title(\"Процент классов который выжил\")\n",
    "sns.barplot(data = dataset, y=dataset['Survived'], x=dataset['Pclass'])\n",
    "# Видим, что в процентах чем выше класс, тем больше выживших"
   ]
  },
  {
   "cell_type": "code",
   "execution_count": 40,
   "metadata": {},
   "outputs": [
    {
     "data": {
      "text/plain": [
       "([<matplotlib.patches.Wedge at 0x2767ea83f40>,\n",
       "  <matplotlib.patches.Wedge at 0x2767ea92430>],\n",
       " [Text(0.4919453215643337, 0.9838647267744507, 'female'),\n",
       "  Text(-0.4919452294482682, -0.9838647728336912, 'male')],\n",
       " [Text(0.2683338117623638, 0.5366534873315185, '35.2%'),\n",
       "  Text(-0.26833376151723715, -0.5366535124547406, '64.8%')])"
      ]
     },
     "execution_count": 40,
     "metadata": {},
     "output_type": "execute_result"
    },
    {
     "data": {
      "image/png": "[encoded data removed]",
      "text/plain": [
       "<Figure size 432x288 with 1 Axes>"
      ]
     },
     "metadata": {},
     "output_type": "display_data"
    }
   ],
   "source": [
    "#3 Было ли больше женщин или мужчин (выживших?)\n",
    "grby = dataset.groupby(['Sex'])\n",
    "plt.pie(grby.size(), labels = grby.groups.keys(), autopct='%1.1f%%')\n",
    "# Как мы видим, на борту было больше мужчин"
   ]
  },
  {
   "cell_type": "code",
   "execution_count": 41,
   "metadata": {},
   "outputs": [
    {
     "data": {
      "text/plain": [
       "([<matplotlib.patches.Wedge at 0x2767ea18f10>,\n",
       "  <matplotlib.patches.Wedge at 0x2767ea58100>,\n",
       "  <matplotlib.patches.Wedge at 0x2767ea58e50>],\n",
       " [Text(0.911772230064993, 0.6153628201982223, 'C'),\n",
       "  Text(0.12219517070335402, 1.0931918131127667, 'Q'),\n",
       "  Text(-0.7128397429902672, -0.8377705537995295, 'S')],\n",
       " [Text(0.49733030730817795, 0.3356524473808485, '18.9%'),\n",
       "  Text(0.06665191129273855, 0.5962864435160545, '8.7%'),\n",
       "  Text(-0.38882167799469114, -0.4569657566179251, '72.4%')])"
      ]
     },
     "execution_count": 41,
     "metadata": {},
     "output_type": "execute_result"
    },
    {
     "data": {
      "image/png": "[encoded data removed]",
      "text/plain": [
       "<Figure size 432x288 with 1 Axes>"
      ]
     },
     "metadata": {},
     "output_type": "display_data"
    }
   ],
   "source": [
    "#4 Какой порт самый непопулярный?\n",
    "grby = dataset.groupby(['Embarked'])\n",
    "plt.pie(grby.size(), labels = grby.groups.keys(), autopct='%1.1f%%')\n",
    "# Как мы видим, самый непопулярный порт - Q(Queenstown)"
   ]
  },
  {
   "cell_type": "code",
   "execution_count": 42,
   "metadata": {},
   "outputs": [
    {
     "data": {
      "text/plain": [
       "3"
      ]
     },
     "execution_count": 42,
     "metadata": {},
     "output_type": "execute_result"
    }
   ],
   "source": [
    " #5 Как много классов было на Титанике?\n",
    "dataset['Pclass'].value_counts().size\n",
    "#dataset[:]['Pclass'].value_counts().size\n",
    "#Три."
   ]
  },
  {
   "cell_type": "code",
   "execution_count": 43,
   "metadata": {},
   "outputs": [
    {
     "name": "stdout",
     "output_type": "stream",
     "text": [
      "32.2042079685746\n",
      "Pclass\n",
      "1    84.154687\n",
      "2    20.662183\n",
      "3    13.675550\n",
      "Name: Fare, dtype: float64\n"
     ]
    },
    {
     "data": {
      "text/plain": [
       "Text(0, 0.5, 'Класс')"
      ]
     },
     "execution_count": 43,
     "metadata": {},
     "output_type": "execute_result"
    },
    {
     "data": {
      "image/png": "[encoded data removed]",
      "text/plain": [
       "<Figure size 432x432 with 1 Axes>"
      ]
     },
     "metadata": {
      "needs_background": "light"
     },
     "output_type": "display_data"
    }
   ],
   "source": [
    "#6 средняя цена и цена для каждого класса\n",
    "print(dataset['Fare'].mean())\n",
    "print(dataset.groupby(['Pclass']).Fare.mean())\n",
    "plt.figure(figsize=(6,6))\n",
    "ax = dataset.groupby(['Pclass']).Fare.mean().plot.bar()\n",
    "plt.title(\"Цена билета в зависимости от класса\")\n",
    "ax.set_xlabel('Цена')\n",
    "ax.set_ylabel('Класс')\n",
    "# Первое - цена средняя, второе - цена по классам, третье - график зависимость класса от цены (а почему нет)"
   ]
  },
  {
   "cell_type": "markdown",
   "metadata": {},
   "source": [
    "**Task 2** (0.5 points) <br/>\n",
    "Visualize age distribution (you may use a histogram, for example). \n",
    "\n",
    "    * What is the minimal and maximum ages of the passengers? Visualize it on the plot\n",
    "    * What is the mean age? And among males and females sepatately? Visualize it on the plot\n",
    "    * Make conclusions about what you see on the plot"
   ]
  },
  {
   "cell_type": "code",
   "execution_count": 44,
   "metadata": {},
   "outputs": [
    {
     "name": "stdout",
     "output_type": "stream",
     "text": [
      "минимальный возраст: 0.42, максимальный возраст: 80.0\n"
     ]
    },
    {
     "data": {
      "text/plain": [
       "<matplotlib.axes._subplots.AxesSubplot at 0x2767e77baf0>"
      ]
     },
     "execution_count": 44,
     "metadata": {},
     "output_type": "execute_result"
    },
    {
     "data": {
      "image/png": "[encoded data removed]",
      "text/plain": [
       "<Figure size 720x720 with 1 Axes>"
      ]
     },
     "metadata": {
      "needs_background": "light"
     },
     "output_type": "display_data"
    },
    {
     "data": {
      "image/png": "[encoded data removed]",
      "text/plain": [
       "<Figure size 720x720 with 1 Axes>"
      ]
     },
     "metadata": {
      "needs_background": "light"
     },
     "output_type": "display_data"
    }
   ],
   "source": [
    "## Разобьем на первый второй график соответственно\n",
    "plt.figure(figsize=(10,10))\n",
    "plt.title(\"Количество людей и возраст\")\n",
    "points = dataset.Age.unique()\n",
    "points.sort()\n",
    "a = sns.lineplot(data = dataset, y=dataset.groupby(['Age']).size(), x =points[:-1])\n",
    "a.set_xlabel('Возраст')\n",
    "a.set_ylabel('Количество людей')\n",
    "print(f'минимальный возраст: {dataset.Age.min()}, максимальный возраст: {dataset.Age.max()}')\n",
    "#ура я это сделал (до последнего так как последний nan)\n",
    "# (1)Как мы видим, минимальный возраст человека на борту - меньше года, а максимальный равен 80ти. На графике видно, что\n",
    "# большинство людей в диапазоне от 15 до 40 лет, людей младше и старше - гораздо меньше.\n",
    "plt.figure(figsize=(10,10))\n",
    "plt.title(\"Средний возраст относительно пола\")\n",
    "#dataset.groupby(['Sex']).Age.mean().plot.bar()\n",
    "sns.barplot(x=dataset['Sex'], y=dataset['Age'])\n",
    "#(2) Мужчины в среднем более взрослые нежели женщины, но совсем ненамного"
   ]
  },
  {
   "cell_type": "markdown",
   "metadata": {},
   "source": [
    "**Task 3** (1 points) <br/>\n",
    "Find all the titles of the passengers (example, *Capt., Mr.,Mme.*), which are written in the column Name, and answer the following questions:\n",
    "\n",
    "    * How many are there unique titles?\n",
    "    * How many are there passengers with every title?\n",
    "    * What is the most popular man's title? And woman's title?\n",
    "    \n",
    "**Hint** You may select the title from the name as a word which contains a dot."
   ]
  },
  {
   "cell_type": "code",
   "execution_count": 141,
   "metadata": {},
   "outputs": [
    {
     "name": "stdout",
     "output_type": "stream",
     "text": [
      "There is 17 titles\n",
      "------------------------------------------------------\n",
      "Passengers with every title:\n",
      "  Mr              517\n",
      " Miss            182\n",
      " Mrs             125\n",
      " Master           40\n",
      " Dr                7\n",
      " Rev               6\n",
      " Mlle              2\n",
      " Major             2\n",
      " Col               2\n",
      " Mme               1\n",
      " Sir               1\n",
      " Jonkheer          1\n",
      " Don               1\n",
      " Lady              1\n",
      " the Countess      1\n",
      " Ms                1\n",
      " Capt              1\n",
      "Name: Title, dtype: int64\n",
      "------------------------------------------------------\n",
      "The most common titles by sex:\n",
      "Sex\n",
      "female     Miss\n",
      "male         Mr\n",
      "Name: Title, dtype: object\n"
     ]
    }
   ],
   "source": [
    "df = dataset[[\"Name\", \"Sex\"]].copy()\n",
    "df[[\"First name\", \"Last name\"]] = df['Name'].str.split(',', expand=True)\n",
    "# Создадим новый DF, так как старый ещё нужен для работы, там засплитим чтобы узнать имя и ещё раз чтобы узнать title\n",
    "df[[\"Title\", \"Surname\"]] = df['Last name'].str.split('.',1, expand=True)\n",
    "df.drop(columns = [\"Last name\", \"First name\", \"Surname\", \"Name\"], inplace=True)\n",
    "print(f'There is {df[\"Title\"].nunique()} titles')\n",
    "print(\"------------------------------------------------------\")\n",
    "print(f'Passengers with every title:\\n {df[\"Title\"].value_counts()}')\n",
    "print(\"------------------------------------------------------\")\n",
    "print(f'The most common titles by sex:\\n{df.groupby(\"Sex\").Title.agg(pd.Series.mode)}')"
   ]
  },
  {
   "cell_type": "markdown",
   "metadata": {},
   "source": [
    "**Task 4** (0.5 points) <br/>\n",
    "Is there correlation between *pclass* and *ticket price*? Calculate mean price for each port and visualize prize distribution for each port. Make conclusions about what you see on the plot\n",
    "\n",
    "Hint: you could make one or several plot types i.e.  box, violine, pair, histogram (see additional notebooks for Seminar 1 \"Visualization with Seaborn\"). main point here is to **choose** plots wisely and **make meaningful conclusions**\n"
   ]
  },
  {
   "cell_type": "code",
   "execution_count": 24,
   "metadata": {},
   "outputs": [
    {
     "name": "stdout",
     "output_type": "stream",
     "text": [
      "Корреляция равна:-0.5494996199439078\n",
      "Embarked\n",
      "C    59.954144\n",
      "Q    13.276030\n",
      "S    27.079812\n",
      "Name: Fare, dtype: float64\n"
     ]
    },
    {
     "data": {
      "text/plain": [
       "<matplotlib.axes._subplots.AxesSubplot at 0x23c7fc45730>"
      ]
     },
     "execution_count": 24,
     "metadata": {},
     "output_type": "execute_result"
    },
    {
     "data": {
      "image/png": "[encoded data removed]",
      "text/plain": [
       "<Figure size 720x576 with 1 Axes>"
      ]
     },
     "metadata": {
      "needs_background": "light"
     },
     "output_type": "display_data"
    }
   ],
   "source": [
    "print(f'Корреляция равна:{dataset[\"Pclass\"].corr(dataset[\"Fare\"])}')\n",
    "# Отрицательная корреляция - тоже зависимость. 0,54 - довольно сильная зависимость, так что да, Класс и цена взаимосвязаны(Логично)\n",
    "print(dataset.groupby(['Embarked']).Fare.mean()) # Средняя цена для каждого класса\n",
    "fig, ax = plt.subplots(figsize=(10,8))\n",
    "sns.boxplot(dataset.Embarked, dataset.Fare)\n",
    "#Как мы и видим, Для C средняя цена больше, чем для остальных, и ещё есть несколько высоких \"Выбросов\", исходя из чего \n",
    "#Средняя цена выше чем у остальных. У S больше выбросов вверх, но средняя цена всё равно ниже"
   ]
  },
  {
   "cell_type": "markdown",
   "metadata": {},
   "source": [
    "**Task 5** (0.5 points) <br/>\n",
    "The same question as in task 4 about correlation between *embarked* and *ticket priсe*."
   ]
  },
  {
   "cell_type": "code",
   "execution_count": 194,
   "metadata": {},
   "outputs": [
    {
     "name": "stdout",
     "output_type": "stream",
     "text": [
      "0.06346234476922952\n"
     ]
    }
   ],
   "source": [
    "ds = dataset[[\"Embarked\", \"Fare\"]].copy()\n",
    "ds[\"Embarked\"].replace([\"S\", \"C\", \"Q\"], [1,2,3], inplace=True)\n",
    "#Так как переменная - категориальная, легче всего просто изменить значения на интовый, оттуда уже понять зависимость\n",
    "#(Было пройдено на первом курсе на НИСе)\n",
    "print(ds.Embarked.corr(ds.Fare))\n",
    "#fig, ax = plt.subplots(figsize=(10,8))\n",
    "#sns.boxplot(ds.Embarked, ds.Fare)\n",
    "# Корреляции почти нет"
   ]
  },
  {
   "cell_type": "markdown",
   "metadata": {},
   "source": [
    "**Task 6** (0.5 points) <br/>\n",
    "Visualize age distribution for survived and not survived passengers separately and calculate the mean age for each class. Are they different? Provide the same visualization for males and females separately. Make conclusions about what you see on the plots"
   ]
  },
  {
   "cell_type": "code",
   "execution_count": 209,
   "metadata": {},
   "outputs": [
    {
     "name": "stdout",
     "output_type": "stream",
     "text": [
      "Survived\n",
      "0    30.626179\n",
      "1    28.343690\n",
      "Name: Age, dtype: float64\n",
      "Survived  Pclass\n",
      "0         1         43.695312\n",
      "          2         33.544444\n",
      "          3         26.555556\n",
      "1         1         35.368197\n",
      "          2         25.901566\n",
      "          3         20.646118\n",
      "Name: Age, dtype: float64\n"
     ]
    },
    {
     "data": {
      "text/plain": [
       "<matplotlib.axes._subplots.AxesSubplot at 0x27602d063a0>"
      ]
     },
     "execution_count": 209,
     "metadata": {},
     "output_type": "execute_result"
    },
    {
     "data": {
      "image/png": "[encoded data removed]",
      "text/plain": [
       "<Figure size 432x288 with 1 Axes>"
      ]
     },
     "metadata": {
      "needs_background": "light"
     },
     "output_type": "display_data"
    },
    {
     "data": {
      "image/png": "[encoded data removed]",
      "text/plain": [
       "<Figure size 720x576 with 1 Axes>"
      ]
     },
     "metadata": {
      "needs_background": "light"
     },
     "output_type": "display_data"
    }
   ],
   "source": [
    "fig, ax = plt.subplots()\n",
    "fig.suptitle('Средний возраст выживших и умерших')\n",
    "sns.boxplot(dataset.Survived, dataset.Age)\n",
    "print(dataset.groupby(['Survived']).Age.mean())\n",
    "# Как мы видим, в среднем, хоть и немного, но выживали чаще более молодые люди.\n",
    "fig, ax = plt.subplots(figsize=(10,8))\n",
    "fig.suptitle('Зависимость класса от среднего возраста выживших и умерших')\n",
    "print(dataset.groupby(['Survived', 'Pclass']).Age.mean())\n",
    "dataset.groupby(['Survived', 'Pclass']).Age.mean().plot.bar()\n",
    "# Средний возраст выживших/нет в том или ином классе. Они разные: чем лучше класс, тем выше средний возраст выживших\n",
    "#И так же, чем лучше класс, тем средний возраст упокоенных выше."
   ]
  },
  {
   "cell_type": "code",
   "execution_count": 213,
   "metadata": {},
   "outputs": [
    {
     "name": "stdout",
     "output_type": "stream",
     "text": [
      "Survived  Sex   \n",
      "0         female    25.046875\n",
      "          male      31.618056\n",
      "1         female    28.847716\n",
      "          male      27.276022\n",
      "Name: Age, dtype: float64\n"
     ]
    },
    {
     "data": {
      "image/png": "[encoded data removed]",
      "text/plain": [
       "<Figure size 720x576 with 1 Axes>"
      ]
     },
     "metadata": {
      "needs_background": "light"
     },
     "output_type": "display_data"
    }
   ],
   "source": [
    "fig, ax = plt.subplots(figsize=(10,8))\n",
    "fig.suptitle('Средний возраст выживших и умерших с разделением на пол')\n",
    "dataset.groupby(['Survived', 'Sex']).Age.mean().plot.bar()\n",
    "print(dataset.groupby(['Survived', 'Sex']).Age.mean())\n",
    "#Как мы видим, средний возраст умерших мужчин больше, также средний возраст выживших женщин выше, чем у мужчин"
   ]
  },
  {
   "cell_type": "code",
   "execution_count": null,
   "metadata": {},
   "outputs": [],
   "source": []
  }
 ],
 "metadata": {
  "kernelspec": {
   "display_name": "Python 3",
   "language": "python",
   "name": "python3"
  },
  "language_info": {
   "codemirror_mode": {
    "name": "ipython",
    "version": 3
   },
   "file_extension": ".py",
   "mimetype": "text/x-python",
   "name": "python",
   "nbconvert_exporter": "python",
   "pygments_lexer": "ipython3",
   "version": "3.8.3"
  }
 },
 "nbformat": 4,
 "nbformat_minor": 4
}
